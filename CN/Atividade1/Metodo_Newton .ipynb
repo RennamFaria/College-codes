{
 "cells": [
  {
   "cell_type": "markdown",
   "metadata": {
    "id": "atFSL7H_GJZO",
    "tags": []
   },
   "source": [
    "# Método de Newton\n",
    "\n",
    "## Atividade 1 de Cálculo Numérico\n",
    "\n",
    "- **Turma**: IA\n",
    "\n",
    "- **Linguagem**: Python\n",
    "\n",
    "- **Integrantes**:\n",
    "  - Rennam Victor Cabral de Faria  -  RA: 164933\n",
    "  - Fernando Felix da Silva        -  RA: 168848\n"
   ]
  },
  {
   "cell_type": "markdown",
   "metadata": {
    "id": "3fv_hOoUGJZW",
    "tags": []
   },
   "source": [
    "## Código método de Newton"
   ]
  },
  {
   "cell_type": "code",
   "execution_count": 589,
   "metadata": {
    "id": "TvBqnQdcGJZX"
   },
   "outputs": [],
   "source": [
    "# Funcao do metodo de newton\n",
    "\n",
    "def newton(f, df, xk, er, maxit):\n",
    "    print(\" k         xk          f(xk)         f'(xk)         step   \")\n",
    "    print(\"---  ------------  ------------  ------------  ------------\")\n",
    "\n",
    "    fValues = []\n",
    "    fxValues = []\n",
    "    \n",
    "    num_iter = 0\n",
    "    previous_xk = xk   #x0\n",
    "    while True:\n",
    "        num_iter += 1\n",
    "        xk = previous_xk - f(previous_xk)/df(previous_xk)\n",
    "        step = abs(xk - previous_xk)\n",
    "\n",
    "        print(f\"{num_iter:^3}  {xk:+.5E}  {f(xk):+.5E}  {df(xk):+.5E}  {step:+.5E}\")\n",
    "\n",
    "        fValues.append(xk)\n",
    "        fxValues.append(f(xk))\n",
    "        \n",
    "        if(step < er or num_iter >= maxit):\n",
    "            break\n",
    "        previous_xk = xk\n",
    "\n",
    "    xFinal = xk\n",
    "    fxFinal = f(xk)\n",
    "    # return xFinal, fxFinal, num_iter\n",
    "    return fValues, fxValues, num_iter"
   ]
  },
  {
   "cell_type": "code",
   "execution_count": 590,
   "metadata": {},
   "outputs": [],
   "source": [
    "\n",
    "# Para testes\n",
    "#Ex1.1\n",
    "#func1 = \"x * np.exp(-x)\"\n",
    "#func2 = \"np.exp(-x) - x * np.exp(-x)\"\n",
    "#x0 = float(2)\n",
    "#x0 = float(0.5)\n",
    "#er = float(1e-8)\n",
    "#maxit = int(20)\n",
    "\n",
    "#Ex1.2\n",
    "func1 = \"x**3 - x - 3\"\n",
    "func2 = \"3*x**2 - 1\"\n",
    "x0 = float(0.57)\n",
    "#x0 = float(0.62)\n",
    "er = float(1e-8)\n",
    "maxit = int(20)\n",
    "\n",
    "#Ex1.3\n",
    "#func1 = \"atan(x)\"\n",
    "#func2 = \"1 / (1 + x**2)\"\n",
    "#x0 = float(1.45)\n",
    "#x0 = float(1)\n",
    "#er = float(1e-8)\n",
    "#maxit = int(10)\n",
    "\n",
    "#Ex2.3\n",
    "#func1 = \"360*(x-sin(2*x)/2)\"\n",
    "#func2 = \"720*(sin(x)**2)\"\n",
    "\n",
    "#Ex2.4\n",
    "#unc1 = \"360 * (x - np.sin(2 * x) / 2) - 250\"\n",
    "#func2 = \"720 * (np.sin(x)**2)\"\n",
    "#x0 = float(1.0471975512)\n",
    "#er = float(1e-6)\n",
    "#maxit = int(20)\n"
   ]
  },
  {
   "cell_type": "code",
   "execution_count": 591,
   "metadata": {
    "colab": {
     "base_uri": "https://localhost:8080/"
    },
    "id": "KH4mWvULGJZa",
    "outputId": "9e3ca325-a56c-40f3-c209-510382cc52f4"
   },
   "outputs": [
    {
     "name": "stdout",
     "output_type": "stream",
     "text": [
      " k         xk          f(xk)         f'(xk)         step   \n",
      "---  ------------  ------------  ------------  ------------\n",
      " 1   +4.00000E+00  +7.32626E-02  -5.49469E-02  +2.00000E+00\n",
      " 2   +5.33333E+00  +2.57491E-02  -2.09211E-02  +1.33333E+00\n",
      " 3   +6.56410E+00  +9.25597E-03  -7.84588E-03  +1.23077E+00\n",
      " 4   +7.74383E+00  +3.35625E-03  -2.92284E-03  +1.17972E+00\n",
      " 5   +8.89211E+00  +1.22239E-03  -1.08492E-03  +1.14828E+00\n",
      " 6   +1.00188E+01  +4.46374E-04  -4.01820E-04  +1.12671E+00\n",
      " 7   +1.11297E+01  +1.63274E-04  -1.48604E-04  +1.11088E+00\n",
      " 8   +1.22284E+01  +5.97910E-05  -5.49015E-05  +1.09872E+00\n",
      " 9   +1.33175E+01  +2.19137E-05  -2.02682E-05  +1.08906E+00\n",
      "10   +1.43987E+01  +8.03642E-06  -7.47828E-06  +1.08119E+00\n",
      "11   +1.54733E+01  +2.94860E-06  -2.75804E-06  +1.07463E+00\n",
      "12   +1.65424E+01  +1.08226E-06  -1.01683E-06  +1.06909E+00\n",
      "13   +1.76067E+01  +3.97350E-07  -3.74782E-07  +1.06434E+00\n",
      "14   +1.86669E+01  +1.45922E-07  -1.38105E-07  +1.06022E+00\n",
      "15   +1.97235E+01  +5.35990E-08  -5.08815E-08  +1.05660E+00\n",
      "16   +2.07770E+01  +1.96908E-08  -1.87431E-08  +1.05341E+00\n",
      "17   +2.18275E+01  +7.23489E-09  -6.90344E-09  +1.05056E+00\n",
      "18   +2.28755E+01  +2.65860E-09  -2.54238E-09  +1.04801E+00\n",
      "19   +2.39212E+01  +9.77052E-10  -9.36207E-10  +1.04571E+00\n",
      "20   +2.49649E+01  +3.59105E-10  -3.44721E-10  +1.04363E+00\n"
     ]
    }
   ],
   "source": [
    "from math import *\n",
    "\n",
    "# Dados de Entrada:\n",
    "# funcoes f e f', ponto inicial x0, tolerancia ε, numero maximo de iteracoes maxit.\n",
    "\n",
    "#print(\"Digite a função f:\")\n",
    "#func1 = input()\n",
    "\n",
    "#print(\"Digite a função df:\")\n",
    "#func2 = input()\n",
    "\n",
    "#print(\"Digite o valor de x0:\")\n",
    "#x0 = float(input())\n",
    "\n",
    "#print(\"Digite o erro:\")\n",
    "#e = float(input())\n",
    "\n",
    "#print(\"Digite o número máximo de iterações:\")\n",
    "#maxit = int(input())\n",
    "\n",
    "f = lambda x: eval(func1)\n",
    "df = lambda x: eval(func2)\n",
    "# Dados de saida:\n",
    "#solucao aproximada x*, valor de f(x*), numero de iteracoes realizadas iter.\n",
    "xFinal, fxFinal, num_iter = newton(f, df, x0, er, maxit)\n"
   ]
  },
  {
   "cell_type": "markdown",
   "metadata": {
    "id": "ojMmqDvnGJZd"
   },
   "source": [
    "## Resultados"
   ]
  },
  {
   "cell_type": "code",
   "execution_count": 592,
   "metadata": {
    "id": "wjxEytkPGJZd"
   },
   "outputs": [
    {
     "name": "stdout",
     "output_type": "stream",
     "text": [
      "[np.float64(4.0), np.float64(5.333333333333333), np.float64(6.564102564102564), np.float64(7.743826066406712), np.float64(8.892109843323993), np.float64(10.018818672756456), np.float64(11.129697939352729), np.float64(12.228417566135983), np.float64(13.317477310673443), np.float64(14.398662765680003), np.float64(15.473297079378938), np.float64(16.542389836510605), np.float64(17.606730006234756), np.float64(18.66694655697199), np.float64(19.723549433806152), np.float64(20.77695811059232), np.float64(21.82752200390736), np.float64(22.875535396946265), np.float64(23.92124856381758), np.float64(24.964876204659912)]\n"
     ]
    }
   ],
   "source": [
    "#print(*xFinal, sep='\\n')\n",
    "print(xFinal)"
   ]
  },
  {
   "cell_type": "code",
   "execution_count": 593,
   "metadata": {
    "id": "5kOzBg-3GJZe"
   },
   "outputs": [
    {
     "name": "stdout",
     "output_type": "stream",
     "text": [
      "[np.float64(0.07326255555493671), np.float64(0.025749066633767685), np.float64(0.00925596782007352), np.float64(0.003356252760816832), np.float64(0.0012223922320443623), np.float64(0.00044637396042465383), np.float64(0.00016327397927656267), np.float64(5.979102365781934e-05), np.float64(2.1913666940247e-05), np.float64(8.03641534421721e-06), np.float64(2.9485963624070995e-06), np.float64(1.0822550666448473e-06), np.float64(3.973498180122668e-07), np.float64(1.4592221066484047e-07), np.float64(5.35989633653227e-08), np.float64(1.969081564010381e-08), np.float64(7.234892371058054e-09), np.float64(2.6585967771605036e-09), np.float64(9.770518070646512e-10), np.float64(3.5910498980853357e-10)]\n"
     ]
    }
   ],
   "source": [
    "#print(*fxFinal, sep='\\n')\n",
    "print(fxFinal)"
   ]
  },
  {
   "cell_type": "code",
   "execution_count": 594,
   "metadata": {
    "id": "hyxhILsLGJZf"
   },
   "outputs": [
    {
     "name": "stdout",
     "output_type": "stream",
     "text": [
      "20\n"
     ]
    }
   ],
   "source": [
    "print(num_iter)"
   ]
  },
  {
   "cell_type": "markdown",
   "metadata": {
    "id": "aIkF3gfbGJZg"
   },
   "source": [
    "## Geração dos gráficos"
   ]
  },
  {
   "cell_type": "code",
   "execution_count": 595,
   "metadata": {
    "id": "EUkAfeWMGJZh"
   },
   "outputs": [],
   "source": [
    "import numpy as np\n",
    "import matplotlib.pyplot as plt"
   ]
  },
  {
   "cell_type": "code",
   "execution_count": 596,
   "metadata": {},
   "outputs": [],
   "source": [
    "def my_function(f, x):\n",
    "    value = f(x)\n",
    "    return value"
   ]
  },
  {
   "cell_type": "code",
   "execution_count": 597,
   "metadata": {},
   "outputs": [],
   "source": [
    "x = np.linspace(-20, 20, 500)\n",
    "\n",
    "y = my_function(f, x)"
   ]
  },
  {
   "cell_type": "code",
   "execution_count": 598,
   "metadata": {},
   "outputs": [
    {
     "data": {
      "image/png": "[encoded data removed]",
      "text/plain": [
       "<Figure size 800x600 with 1 Axes>"
      ]
     },
     "metadata": {},
     "output_type": "display_data"
    }
   ],
   "source": [
    "# Plot a funcao\n",
    "plt.figure(figsize=(8, 6))\n",
    "plt.plot(x, y, label=\"Função\", color=\"green\")  # Desenha a funcao\n",
    "\n",
    "#plt.scatter(xFinal, fxFinal, color='red', label=\"Valores de x* das iterações\")  # Desenha os pontos\n",
    "\n",
    "# Linha pontilhada dos eixos da coordenada\n",
    "plt.axhline(0, color='black', linewidth=0.5, linestyle=\"--\")  # x-eiixo\n",
    "plt.axvline(0, color='black', linewidth=0.5, linestyle=\"--\")  # y-eixo\n",
    "\n",
    "# Caso queira ver os valores x,y dos pontos vermelhos, \n",
    "for i in range(num_iter):\n",
    "    plt.annotate(f\"{i}\", \n",
    "                 (xFinal[i], fxFinal[i]), \n",
    "                 textcoords=\"offset points\", \n",
    "                 xytext=(-5, 5),\n",
    "                 ha='center', fontsize=9, color='red')\n",
    "\n",
    "plt.xlabel(\"X\")\n",
    "plt.ylabel(\"Y\")\n",
    "plt.title(\"Grafico da funçao \" + func1)\n",
    "plt.grid()\n",
    "plt.legend()\n",
    "plt.show()"
   ]
  }
 ],
 "metadata": {
  "colab": {
   "provenance": []
  },
  "kernelspec": {
   "display_name": "Python 3 (ipykernel)",
   "language": "python",
   "name": "python3"
  },
  "language_info": {
   "codemirror_mode": {
    "name": "ipython",
    "version": 3
   },
   "file_extension": ".py",
   "mimetype": "text/x-python",
   "name": "python",
   "nbconvert_exporter": "python",
   "pygments_lexer": "ipython3",
   "version": "3.12.3"
  }
 },
 "nbformat": 4,
 "nbformat_minor": 4
}
